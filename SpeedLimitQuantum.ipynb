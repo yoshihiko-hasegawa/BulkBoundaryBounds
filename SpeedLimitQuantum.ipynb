{
 "cells": [
  {
   "cell_type": "code",
   "execution_count": 2,
   "id": "e53fa4e7",
   "metadata": {},
   "outputs": [],
   "source": [
    "import numpy as np\n",
    "import numpy.random as npr\n",
    "import numpy.linalg as npl\n",
    "import scipy as sp\n",
    "import scipy.integrate as spi\n",
    "import scipy.linalg as spl\n",
    "from scipy import interpolate\n",
    "import matplotlib.pyplot as plt\n",
    "import ujson\n",
    "from sympy.physics.quantum import TensorProduct\n",
    "\n",
    "def tensor_product(A, B):\n",
    "    return TensorProduct(A, B)\n",
    "\n",
    "def trace_distance(A, B):\n",
    "    return 0.5 * np.trace(spl.sqrtm(((A - B).T @ (A - B))))"
   ]
  },
  {
   "cell_type": "markdown",
   "id": "edc322a8",
   "metadata": {},
   "source": [
    "# Two sided-operator"
   ]
  },
  {
   "cell_type": "code",
   "execution_count": 4,
   "id": "9188ee24",
   "metadata": {},
   "outputs": [],
   "source": [
    "def twosided_super_operator(H1, H2, Ls1_list, Ls2_list):\n",
    "    dim, _ = H1.shape\n",
    "    jump_op_num = len(Ls1_list)\n",
    "    \n",
    "    if len(Ls1_list) != len(Ls2_list):\n",
    "        raise ValueError('The number of jump operators does not match')\n",
    "    \n",
    "    tmp = -1.0j*(tensor_product(np.eye(dim), H1) - tensor_product(H2.T, np.eye(dim)))\n",
    "    \n",
    "    for c in range(jump_op_num):\n",
    "        L1 = Ls1_list[c]\n",
    "        L2 = Ls2_list[c]\n",
    "        tmp += tensor_product(L2.conj(), L1)\n",
    "        tmp += -1/2 * tensor_product(np.eye(dim), (L1.conj().T @ L1))\n",
    "        tmp += -1/2 * tensor_product((L2.conj().T @ L2).T, np.eye(dim))\n",
    "        \n",
    "    return tmp\n",
    "\n",
    "def twosided_nsolve(super_op, rho_init, t):\n",
    "    s, _ = rho_init.shape\n",
    "    rho_init_vec = np.array(rho_init).T.flatten()\n",
    "    tmp2 = (spl.expm(super_op * t) @ rho_init_vec).reshape(s, s).T\n",
    "    return np.matrix(tmp2)"
   ]
  },
  {
   "cell_type": "code",
   "execution_count": 5,
   "id": "ad767f82",
   "metadata": {},
   "outputs": [],
   "source": [
    "def QFI_direct(rho_init, H, L, t, tau, eps_ratio = 10**(-3)):\n",
    "    eps = np.min([t * eps_ratio, 0.01])\n",
    "    t1 = t\n",
    "    t2 = t + eps\n",
    "\n",
    "    H1 = t1/tau*H\n",
    "    H2 = t2/tau*H\n",
    "    L1 = np.sqrt(t1/tau)*L\n",
    "    L2 = np.sqrt(t2/tau)*L\n",
    "    sop = twosided_super_operator(H1, H2, [L1], [L2])\n",
    "#     tmp_mat =  twosided_nsolve(sop, rho_init, t)\n",
    "    tmp_mat =  twosided_nsolve(sop, rho_init, tau)\n",
    "\n",
    "    return 8 / eps**2 * (1 - np.abs(np.trace(tmp_mat)))"
   ]
  },
  {
   "cell_type": "markdown",
   "id": "cc04cf42",
   "metadata": {},
   "source": [
    "# LHS\n",
    "$$\n",
    "qactivity\\_integral = \\frac{1}{2}\\int_{0}^{\\tau}dt\\,\\frac{\\sqrt{\\mathcal{B}(t)}}{t}\n",
    "$$"
   ]
  },
  {
   "cell_type": "code",
   "execution_count": 6,
   "id": "1f87f499",
   "metadata": {},
   "outputs": [],
   "source": [
    "def qactivity_integral(rho_init, H, L, tau, eps_ratio = 10**(-3), start_time = 10**(-5)):\n",
    "    tmp = spi.quad(lambda t: np.sqrt(QFI_direct(rho_init, H, L, t, tau, eps_ratio = eps_ratio)), start_time, tau)[0]\n",
    "    return 0.5 * tmp\n",
    "\n",
    "def qactivity_integral_interp(rho_init, H, L, tau, interp_maxtime, divnum = 300, eps_ratio = 10**(-3), start_time = 10**(-5)):\n",
    "    tslot = [_t for _t in np.linspace(start_time, interp_maxtime, num=divnum)]\n",
    "    qfi_vals = [QFI_direct(rho_init, H, L, _t, tau, eps_ratio = eps_ratio) for _t in tslot]\n",
    "    f = interpolate.interp1d(tslot, qfi_vals)\n",
    "    tmp = spi.quad(lambda t: np.sqrt(f(t)), start_time, tau)[0]\n",
    "    return 0.5 * tmp\n",
    "\n",
    "def qactivity_direct(rho_init, H, L, tau, eps_ratio = 10**(-3)):\n",
    "    return tau**2 * QFI_direct(rho_init, H, L, tau, tau, eps_ratio = eps_ratio)"
   ]
  },
  {
   "cell_type": "markdown",
   "id": "93337dde",
   "metadata": {},
   "source": [
    "## RHS\n",
    "$$\n",
    "\\mathcal{L}_{D}\\left(\\rho_{1},\\rho_{2}\\right)\\equiv\\arccos\\left[\\sqrt{\\mathrm{Fid}\\left(\\rho_{1},\\rho_{2}\\right)}\\right]\n",
    "$$\n",
    "$$\n",
    "\\mathrm{Fid}\\left(\\rho_{1},\\rho_{2}\\right)\\equiv\\left(\\mathrm{Tr}\\sqrt{\\sqrt{\\rho_{1}}\\rho_{2}\\sqrt{\\rho_{2}}}\\right)^{2}\n",
    "$$"
   ]
  },
  {
   "cell_type": "code",
   "execution_count": 9,
   "id": "f27b00af",
   "metadata": {},
   "outputs": [],
   "source": [
    "def Fid2(rho, sigma):\n",
    "    tmp = (spl.sqrtm(spl.sqrtm(rho) @ sigma @ spl.sqrtm(rho))).trace()\n",
    "    return abs(tmp**2)\n",
    "\n",
    "def L_D2(rho_init, rho_end):\n",
    "    return np.arccos(np.sqrt(Fid2(rho_init, rho_end)))"
   ]
  },
  {
   "cell_type": "markdown",
   "id": "9c82b263",
   "metadata": {},
   "source": [
    "# Calculations"
   ]
  },
  {
   "cell_type": "code",
   "execution_count": 14,
   "id": "12fa0aeb",
   "metadata": {},
   "outputs": [],
   "source": [
    "# Rabi oscillation model\n",
    "ev = np.matrix([[0],[1]])\n",
    "gv = np.matrix([[1],[0]])\n",
    "\n",
    "Delta = 1\n",
    "Omega = 1\n",
    "kappa = 2.0\n",
    "\n",
    "H = Delta * ev @ ev.conj().T + 0.5 * Omega * (ev @ gv.conj().T + gv @ ev.conj().T)\n",
    "L = np.sqrt(kappa) * gv @ ev.conj().T"
   ]
  },
  {
   "cell_type": "code",
   "execution_count": 15,
   "id": "5f5e325c",
   "metadata": {},
   "outputs": [],
   "source": [
    "rho_init = np.array([[1, 0], [0, 0]], dtype=complex)\n",
    "\n",
    "lindblad_sop = twosided_super_operator(H, H, [L], [L])\n",
    "rho_t = lambda t: twosided_nsolve(lindblad_sop, rho_init, t)"
   ]
  },
  {
   "cell_type": "code",
   "execution_count": 16,
   "id": "a34c766b",
   "metadata": {},
   "outputs": [
    {
     "name": "stderr",
     "output_type": "stream",
     "text": [
      "/tmp/ipykernel_1321/1199941692.py:9: IntegrationWarning: The occurrence of roundoff error is detected, which prevents \n",
      "  the requested tolerance from being achieved.  The error may be \n",
      "  underestimated.\n",
      "  tmp = spi.quad(lambda t: np.sqrt(f(t)), start_time, tau)[0]\n",
      "/tmp/ipykernel_1321/1199941692.py:9: IntegrationWarning: The maximum number of subdivisions (50) has been achieved.\n",
      "  If increasing the limit yields no improvement it is advised to analyze \n",
      "  the integrand in order to determine the difficulties.  If the position of a \n",
      "  local difficulty can be determined (singularity, discontinuity) one will \n",
      "  probably gain from splitting up the interval and calling the integrator \n",
      "  on the subranges.  Perhaps a special-purpose integrator should be used.\n",
      "  tmp = spi.quad(lambda t: np.sqrt(f(t)), start_time, tau)[0]\n"
     ]
    }
   ],
   "source": [
    "max_time = 10.0\n",
    "# tslot = np.linspace(0.01, max_time, num = 200)\n",
    "tslot = np.arange(0.05, 10.0 + 10E-3, 0.05)\n",
    "interp_max_time = max_time * 3\n",
    "r = [(qactivity_integral_interp(rho_init, H, L, _t, _t*1.1), L_D2(rho_t(0.0), rho_t(_t))) \\\n",
    "     for _t in tslot]"
   ]
  },
  {
   "cell_type": "code",
   "execution_count": 17,
   "id": "64ad1707",
   "metadata": {},
   "outputs": [
    {
     "data": {
      "text/plain": [
       "(0.0, 2.0)"
      ]
     },
     "execution_count": 17,
     "metadata": {},
     "output_type": "execute_result"
    },
    {
     "data": {
      "image/png": "[encoded data removed]",
      "text/plain": [
       "<Figure size 288x288 with 1 Axes>"
      ]
     },
     "metadata": {
      "needs_background": "light"
     },
     "output_type": "display_data"
    }
   ],
   "source": [
    "plt.rcParams[\"figure.figsize\"] = (4, 4)\n",
    "# plt.rcParams[\"font.family\"] = \"Helvetica\"\n",
    "plt.rcParams[\"font.size\"] = 14\n",
    "xvals = np.array(r)[:, 0]\n",
    "yvals = np.array(r)[:, 1]\n",
    "time_slot = tslot\n",
    "plt.plot(time_slot, xvals)\n",
    "plt.plot(time_slot, yvals)\n",
    "plt.ylim(0, 2)"
   ]
  },
  {
   "cell_type": "code",
   "execution_count": 29,
   "id": "f20a452e",
   "metadata": {},
   "outputs": [],
   "source": [
    "tmp_m = np.array([time_slot, xvals, yvals]).T\n",
    "tmp_m = np.vstack([[0,0,0], tmp_m])\n",
    "np.savetxt(f'/<output_folder>/QSLfixed_teolve_Delta_{Delta}_Omega_{Omega}_kappa_{kappa}.txt', tmp_m)"
   ]
  },
  {
   "cell_type": "code",
   "execution_count": null,
   "id": "aa626cd4",
   "metadata": {},
   "outputs": [],
   "source": []
  }
 ],
 "metadata": {
  "kernelspec": {
   "display_name": "Python 3 (ipykernel)",
   "language": "python",
   "name": "python3"
  },
  "language_info": {
   "codemirror_mode": {
    "name": "ipython",
    "version": 3
   },
   "file_extension": ".py",
   "mimetype": "text/x-python",
   "name": "python",
   "nbconvert_exporter": "python",
   "pygments_lexer": "ipython3",
   "version": "3.10.6"
  }
 },
 "nbformat": 4,
 "nbformat_minor": 5
}
