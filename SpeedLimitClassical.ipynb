{
 "cells": [
  {
   "cell_type": "code",
   "execution_count": 1,
   "id": "wooden-teach",
   "metadata": {},
   "outputs": [],
   "source": [
    "import numpy as np\n",
    "import numpy.random as npr\n",
    "import numpy.linalg as npl\n",
    "import scipy as sp\n",
    "import scipy.integrate as spi\n",
    "import scipy.linalg as spl\n",
    "import matplotlib.pyplot as plt\n",
    "import pandas as pd\n",
    "import ujson"
   ]
  },
  {
   "cell_type": "code",
   "execution_count": 2,
   "id": "unusual-tongue",
   "metadata": {},
   "outputs": [],
   "source": [
    "def solve_equation(W, P_init):\n",
    "    return lambda t: spl.expm(W * t) @ P_init"
   ]
  },
  {
   "cell_type": "code",
   "execution_count": 3,
   "id": "local-screw",
   "metadata": {},
   "outputs": [],
   "source": [
    "def activity(W, P_init, max_time):\n",
    "    Pt = solve_equation(W, P_init)\n",
    "    return spi.quad(lambda t: instant_activity(W, Pt(t)), 0, max_time)[0]\n",
    "\n",
    "def instant_activity(W, P_at_t):\n",
    "    N = len(P_at_t)\n",
    "    tmp = 0\n",
    "    for i in range(N):\n",
    "        for j in range(N):\n",
    "            if i != j:\n",
    "                tmp += P_at_t[i] * W[j, i]\n",
    "    return tmp"
   ]
  },
  {
   "cell_type": "markdown",
   "id": "6c1167dc",
   "metadata": {},
   "source": [
    "# LHS\n",
    "$$\n",
    "LHS = \\frac{1}{2}\\int_{0}^{\\tau}dt\\,\\frac{\\sqrt{\\mathcal{A}(t)}}{t}\n",
    "$$"
   ]
  },
  {
   "cell_type": "code",
   "execution_count": 4,
   "id": "olive-providence",
   "metadata": {},
   "outputs": [],
   "source": [
    "def fisher(W, P_init, tau):\n",
    "    tmp = spi.quad(lambda t: np.sqrt(1 / t**2 * activity(W, P_init, t)), 0, tau)[0]\n",
    "    return 0.5 * tmp"
   ]
  },
  {
   "cell_type": "markdown",
   "id": "fcd5eadf",
   "metadata": {},
   "source": [
    "# RHS\n",
    "$$\n",
    "\\mathcal{L}_P(P(\\nu, 0), P(\\nu, \\tau)) \\equiv \\arccos [\\operatorname{Bhat}(P(\\nu, 0), P(\\nu, \\tau))]\n",
    "$$\n",
    "$$\n",
    "\\operatorname{Bhat}\\left(p_1(x), p_2(x)\\right) \\equiv \\sum_x \\sqrt{p_1(x) p_2(x)}\n",
    "$$"
   ]
  },
  {
   "cell_type": "code",
   "execution_count": 5,
   "id": "sunrise-divide",
   "metadata": {},
   "outputs": [],
   "source": [
    "def Bhat(P1, P2):\n",
    "    N = len(P1)\n",
    "    tmp = 0.0\n",
    "    for i in range(N):\n",
    "        tmp += np.sqrt(P1[i]) * np.sqrt(P2[i])\n",
    "    return tmp\n",
    "\n",
    "def L_P(P_init, P_end):\n",
    "    return np.arccos(Bhat(P_init, P_end))"
   ]
  },
  {
   "cell_type": "markdown",
   "id": "7fe7f775",
   "metadata": {},
   "source": [
    "# Calculations"
   ]
  },
  {
   "cell_type": "code",
   "execution_count": 12,
   "id": "7a417c7b",
   "metadata": {},
   "outputs": [],
   "source": [
    "W = np.array([[-1, 1], [1, -1]])\n",
    "Pss = np.array([0.5, 0.5])\n",
    "P_init = [1, 0]\n",
    "# P_init = [0.6, 0.4]\n",
    "Pt = solve_equation(W, P_init)"
   ]
  },
  {
   "cell_type": "code",
   "execution_count": 16,
   "id": "polyphonic-fantasy",
   "metadata": {},
   "outputs": [],
   "source": [
    "# time_slot = np.linspace(0.001, 2, num=50)\n",
    "time_slot = np.arange(0.01, 2, 0.01)\n",
    "resultt = []\n",
    "for mt in time_slot:\n",
    "    fisher_val = fisher(W, P_init, mt)\n",
    "    \n",
    "    P_end = Pt(mt)\n",
    "    L_P(P_init, P_end)\n",
    "    LP_val = L_P(P_init, P_end)\n",
    "    resultt.append((fisher_val, LP_val))"
   ]
  },
  {
   "cell_type": "code",
   "execution_count": 18,
   "id": "dce1537b",
   "metadata": {},
   "outputs": [
    {
     "data": {
      "text/plain": [
       "[<matplotlib.lines.Line2D at 0x7fe18147ff40>]"
      ]
     },
     "execution_count": 18,
     "metadata": {},
     "output_type": "execute_result"
    },
    {
     "data": {
      "image/png": "[encoded data removed]",
      "text/plain": [
       "<Figure size 288x288 with 1 Axes>"
      ]
     },
     "metadata": {
      "needs_background": "light"
     },
     "output_type": "display_data"
    }
   ],
   "source": [
    "plt.rcParams[\"figure.figsize\"] = (4, 4)\n",
    "plt.rcParams[\"font.size\"] = 14\n",
    "xvals = np.array(resultt)[:, 0]\n",
    "yvals = np.array(resultt)[:, 1]\n",
    "plt.plot(time_slot, xvals)\n",
    "plt.plot(time_slot, yvals)"
   ]
  },
  {
   "cell_type": "code",
   "execution_count": 25,
   "id": "a95b5dd6",
   "metadata": {},
   "outputs": [],
   "source": [
    "tmp_m = np.array([time_slot, xvals, yvals]).T\n",
    "tmp_m = np.vstack([[0,0,0],tmp_m])\n",
    "np.savetxt(f'/<output_folder>/CSL_Pinit_{P_init}.txt', np.array(tmp_m))"
   ]
  },
  {
   "cell_type": "code",
   "execution_count": null,
   "id": "542266de",
   "metadata": {},
   "outputs": [],
   "source": []
  }
 ],
 "metadata": {
  "kernelspec": {
   "display_name": "Python 3 (ipykernel)",
   "language": "python",
   "name": "python3"
  },
  "language_info": {
   "codemirror_mode": {
    "name": "ipython",
    "version": 3
   },
   "file_extension": ".py",
   "mimetype": "text/x-python",
   "name": "python",
   "nbconvert_exporter": "python",
   "pygments_lexer": "ipython3",
   "version": "3.10.6"
  }
 },
 "nbformat": 4,
 "nbformat_minor": 5
}
